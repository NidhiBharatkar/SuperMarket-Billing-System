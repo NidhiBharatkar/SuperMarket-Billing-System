{
 "cells": [
  {
   "cell_type": "code",
   "execution_count": 3,
   "id": "e79c847b-8c38-4a5b-90ab-6b7eca89198d",
   "metadata": {},
   "outputs": [],
   "source": [
    "products = {\n",
    "    \"chips\": 20,\n",
    "    \"Cola\": 40,\n",
    "    \"Apples\": 100,\n",
    "    \"Banana\": 30,\n",
    "    \"Milk\": 50,\n",
    "    \"Bread\": 25,\n",
    "    \"Eggs\": 30,\n",
    "    \"Cheese\": 80,\n",
    "    \"Butter\": 60,\n",
    "    \"Yogurt\": 45,\n",
    "    \"Cereal\": 70,\n",
    "    \"Rice\": 90,\n",
    "    \"Pasta\": 60,\n",
    "    \"Tomatoes\": 40,\n",
    "    \"Potatoes\": 35,\n",
    "    \"Onions\": 25,\n",
    "    \"Carrots\": 30,\n",
    "    \"Lettuce\": 25,\n",
    "    \"Chicken\": 150,\n",
    "    \"Beef\": 180,\n",
    "    \"Fish\": 200,\n",
    "    \"Olive Oil\": 120,\n",
    "    \"Sugar\": 40,\n",
    "    \"Salt\": 15,\n",
    "    \"Flour\": 50,\n",
    "    \"Tea\": 30,\n",
    "    \"Coffee\": 85,\n",
    "    \"Chocolate\": 50,\n",
    "    \"Ice Cream\": 75,\n",
    "    \"Soda\": 45\n",
    "}"
   ]
  },
  {
   "cell_type": "code",
   "execution_count": null,
   "id": "690bb6ac-f2d6-42f0-b9e3-1f4942382a1e",
   "metadata": {},
   "outputs": [
    {
     "name": "stdin",
     "output_type": "stream",
     "text": [
      "Enter Name : Nidhi\n",
      "Enter Phone_no : 1236547890\n"
     ]
    },
    {
     "name": "stdout",
     "output_type": "stream",
     "text": [
      "Enter quantity and price\n"
     ]
    },
    {
     "name": "stdin",
     "output_type": "stream",
     "text": [
      "Enter quantity :  2\n",
      "Enter item name :  milk\n"
     ]
    },
    {
     "name": "stdout",
     "output_type": "stream",
     "text": [
      "Milk : 50 X 2.0\n"
     ]
    },
    {
     "name": "stdin",
     "output_type": "stream",
     "text": [
      "Do you want add more items ? (yes/no) : yes\n",
      "Enter quantity :  5\n",
      "Enter item name :  apples\n"
     ]
    },
    {
     "name": "stdout",
     "output_type": "stream",
     "text": [
      "Milk : 50 X 2.0\n",
      "Apples : 100 X 5.0\n"
     ]
    },
    {
     "name": "stdin",
     "output_type": "stream",
     "text": [
      "Do you want add more items ? (yes/no) : yes\n",
      "Enter quantity :  10\n",
      "Enter item name :  cola\n"
     ]
    },
    {
     "name": "stdout",
     "output_type": "stream",
     "text": [
      "Milk : 50 X 2.0\n",
      "Apples : 100 X 5.0\n",
      "Cola : 40 X 10.0\n"
     ]
    },
    {
     "name": "stdin",
     "output_type": "stream",
     "text": [
      "Do you want add more items ? (yes/no) : yes\n",
      "Enter quantity :  3\n",
      "Enter item name :  coffee\n"
     ]
    },
    {
     "name": "stdout",
     "output_type": "stream",
     "text": [
      "Milk : 50 X 2.0\n",
      "Apples : 100 X 5.0\n",
      "Cola : 40 X 10.0\n",
      "Coffee : 85 X 3.0\n"
     ]
    },
    {
     "name": "stdin",
     "output_type": "stream",
     "text": [
      "Do you want add more items ? (yes/no) : no\n"
     ]
    },
    {
     "name": "stdout",
     "output_type": "stream",
     "text": [
      "------------------------------------------------\n",
      "***************** Bill Details *****************  \n",
      "Customer Name     : Nidhi\n",
      "Customer phone_No : 1236547890\n",
      "Total Bill        : 1255.0\n",
      "Discount Applied  : 15.0 %OFF\n",
      "Final Bill        : 1066.75\n",
      "\n",
      "************************************************\n",
      "         Thank you for shopping with us!          \n",
      "        Visit Again & Enjoy Great Offers!         \n",
      "************************************************\n",
      "------------------------------------------------\n"
     ]
    }
   ],
   "source": [
    "    \n",
    "    \n",
    "    while True:\n",
    "        cart = {}\n",
    "        Amount = 0\n",
    "        Name = input(\"Enter Name :\")\n",
    "        Phone_no = input(\"Enter Phone_no :\")\n",
    "    \n",
    "        print(\"Enter quantity and price\")\n",
    "    \n",
    "        while True:\n",
    "            quantity = float(input(\"Enter quantity : \"))\n",
    "            while True:\n",
    "                p_name = input(\"Enter item name : \").title()\n",
    "                if p_name not in products.keys():\n",
    "                    print(\"Write the Correct Spelling\")\n",
    "                else:\n",
    "                     break\n",
    "            Amount += products[p_name] * quantity \n",
    "            cart[p_name] = products[p_name],\"X\",quantity\n",
    "            for i , j , in cart.items():\n",
    "                    p,x,q = j\n",
    "                    print(i,\":\",p,x,q) \n",
    "            repeat_item = input(\"Do you want add more items ? (yes/no) :\").lower()\n",
    "            if repeat_item in [\"no\",\"n\"]:\n",
    "                break\n",
    "         \n",
    "        discount = 0  \n",
    "        if Amount <= 500:\n",
    "            discount = 0.05\n",
    "            act_Amount = Amount - Amount*discount\n",
    "        elif Amount <= 1000:\n",
    "            discount = 0.07\n",
    "            act_Amount = Amount - Amount*discount  \n",
    "        elif Amount <= 5000:\n",
    "            discount = 0.15\n",
    "            act_Amount = Amount - Amount*discount  \n",
    "        else:\n",
    "             discount = 0.2\n",
    "             act_Amount = Amount - Amount*discount\n",
    "            \n",
    "        print(\"-\"*48)   \n",
    "        print(\"*\"*17,\"Bill Details\",\"*\"*17,\"\"\" \"\"\")\n",
    "        print(\"Customer Name     :\" , Name)\n",
    "        print(\"Customer phone_No :\", Phone_no)\n",
    "        print(\"Total Bill        :\", Amount)\n",
    "        print(\"Discount Applied  :\" ,discount*100,\"%OFF\")\n",
    "        print(\"Final Bill        :\", act_Amount)\n",
    "        print(\"\\n\" + \"*\"*48)\n",
    "        print(\"{:^50}\".format(\"Thank you for shopping with us!\"))\n",
    "        print(\"{:^50}\".format(\"Visit Again & Enjoy Great Offers!\"))\n",
    "        print(\"*\"*48)\n",
    "        print(\"-\"*48)\n",
    "        \n",
    "        next_person = input(\"is there a next person in queue : \").lower()\n",
    "        if next_person in[\"No\",\"n\"]:\n",
    "                \n",
    "            break\n",
    "            \n",
    "                "
   ]
  },
  {
   "cell_type": "code",
   "execution_count": null,
   "id": "89bc84ff-27ef-4ef6-b9a2-37350d9111c9",
   "metadata": {},
   "outputs": [],
   "source": []
  }
 ],
 "metadata": {
  "kernelspec": {
   "display_name": "Python 3 (ipykernel)",
   "language": "python",
   "name": "python3"
  },
  "language_info": {
   "codemirror_mode": {
    "name": "ipython",
    "version": 3
   },
   "file_extension": ".py",
   "mimetype": "text/x-python",
   "name": "python",
   "nbconvert_exporter": "python",
   "pygments_lexer": "ipython3",
   "version": "3.13.0"
  }
 },
 "nbformat": 4,
 "nbformat_minor": 5
}
